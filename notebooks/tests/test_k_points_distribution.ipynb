{
 "cells": [
  {
   "cell_type": "code",
   "execution_count": 1,
   "id": "672c844c-aabd-43ec-b57b-d789a5ae3e32",
   "metadata": {
    "tags": []
   },
   "outputs": [],
   "source": [
    "import numpy as np\n",
    "import matplotlib.pyplot as plt\n",
    "import sys, os\n",
    "sys.path.append(os.path.abspath('../..'))\n",
    "\n",
    "from sep_bk_nn import SepBKNN\n",
    "from sep_bk_nn.bk_functions import create_bk_dataset\n",
    "from sep_bk_nn.bk_functions import bk_function_equilateral, bk_function_slow_collider_minus_eq\n",
    "\n",
    "from scipy import integrate\n",
    "import matplotlib.pyplot as plt\n"
   ]
  },
  {
   "cell_type": "code",
   "execution_count": 2,
   "id": "09187fb9-abe9-495e-b69d-bb708b8d4d28",
   "metadata": {
    "tags": []
   },
   "outputs": [],
   "source": [
    "\"\"\" KZ todo:\n",
    "    Done:\n",
    "    1. add the extra argument to functions, for example slow-collider template has alpha\n",
    "\"\"\"\n",
    "import numpy as np\n",
    "import torch\n",
    "\n",
    "# kz note: seems VERY hard to learn due to the the divergence near 0\n",
    "def bk_function_local(k1, k2, k3):\n",
    "    return (k1**2 / (k2 * k3) + k2**2 / (k1 * k3) + k3**2 / (k1 * k2))/3\n",
    "\n",
    "def bk_function_equilateral(k1, k2, k3):\n",
    "    return (k1/k2 + k2/k1 + k1/k3 + k3/k1 + k2/k3 + k3/k2)\\\n",
    "         - (k1**2 / (k2 * k3) + k2**2 / (k1 * k3) + k3**2 / (k1 * k2)) - 2\n",
    "\n",
    "def bk_function_test_1(k1, k2, k3):\n",
    "    return k1**2 / (k2 * k3)\n",
    "\n",
    "# 2307.01751: eq 5.15 minus the equilateral part. \n",
    "def bk_function_slow_collider_minus_eq(k1, k2, k3, alpha=0.1):\n",
    "    return   (k1**2/k2/k3) / (1. + (alpha*k1**2/k2/k3)**2) / 3\\\n",
    "            +(k2**2/k1/k3) / (1. + (alpha*k2**2/k1/k3)**2) / 3\\\n",
    "            +(k3**2/k1/k2) / (1. + (alpha*k3**2/k1/k2)**2) / 3\n",
    "\n",
    "def bk_function_slow_collider_full(k1, k2, k3, alpha=0.1):\n",
    "    return  bk_function_slow_collider_minus_eq(k1, k2, k3, alpha) + bk_function_equilateral(k1,k2,k3)\n",
    "\n",
    "# Dictionary containing function info: function object and default arguments\n",
    "FUNCTION_MAP = {\n",
    "    'bk_loc': {\n",
    "        'func': bk_function_local,\n",
    "        'default_args': {}\n",
    "    },\n",
    "    'bk_eq': {\n",
    "        'func': bk_function_equilateral,\n",
    "        'default_args': {}\n",
    "    },\n",
    "    'bk_test1': {\n",
    "        'func': bk_function_test_1,\n",
    "        'default_args': {}\n",
    "    },\n",
    "    'bk_sl_collider': {\n",
    "        'func': bk_function_slow_collider_minus_eq,\n",
    "        'default_args': {'alpha': 0.1}\n",
    "    },\n",
    "    'bk_sl_collider_full': {\n",
    "        'func': bk_function_slow_collider_full,\n",
    "        'default_args': {'alpha': 0.1}\n",
    "    },\n",
    "}\n",
    "\n",
    "def get_function(func_name):\n",
    "    \"\"\"\n",
    "    Returns the function and its default arguments\n",
    "    \"\"\"\n",
    "    if func_name not in FUNCTION_MAP:\n",
    "        raise ValueError(f\"Unknown function: {func_name}\")\n",
    "    return FUNCTION_MAP[func_name]\n",
    "\n",
    "\n",
    "def create_bk_dataset(grid_points, func_name, func_arg, kmin=0.01, kmax=1.0, n_points_k2=None, scale_invariant=True, k2_sample_version=0):\n",
    "    func_info = get_function(func_name)\n",
    "    func = func_info['func']\n",
    "    func_args_input = func_info['default_args'].copy()\n",
    "    if func_arg is not None:\n",
    "            func_args_input.update(func_arg)\n",
    "    # print('kz testing', func_args_input)\n",
    "    if scale_invariant:\n",
    "        ks_scale_invariant = generate_scale_invariant_k_points(n_points_k1=grid_points, kmin=kmin, kmax=kmax, n_points_k2=n_points_k2, k2_sample_version=k2_sample_version)\n",
    "    else:\n",
    "        raise NotImplementedError\n",
    "    y = func(ks_scale_invariant[:, 0], ks_scale_invariant[:, 1], ks_scale_invariant[:, 2], **func_args_input)\n",
    "    return torch.tensor(ks_scale_invariant, dtype=torch.float32), torch.tensor(y, dtype=torch.float32).view(-1, 1)\n",
    "\n",
    "\n",
    "def generate_scale_invariant_k_points(n_points_k1=300, kmin = 0.001, kmax=None, n_points_k2 = None, k2_sample_version=2):\n",
    "    \"\"\"\n",
    "    Generates k points where:\n",
    "    1. k3 = 1 (fixed due to scale invariance)\n",
    "    2. k1 < k2 < k3=1 (ordered)\n",
    "    3. k3=1 < k1 + k2 (triangle inequality)\n",
    "\n",
    "    Note: k1 and k2 in this case is k1/k3 and k2/k3 since k3 is normalized to 1 for scale-invariant calculations\n",
    "\n",
    "    KZ Note: I thought there is a one-liner numpy solution but could not find it\n",
    "\n",
    "    \"\"\"\n",
    "    points = []\n",
    "    \n",
    "    if k2_sample_version=='full_uniform':\n",
    "        if n_points_k2 is None:\n",
    "            n_points_k2 = n_points_k1\n",
    "        if kmax is None:\n",
    "            kmax = 1.0\n",
    "            \n",
    "        ### START ver=0\n",
    "        step_size = (kmax-kmin)/n_points_k1\n",
    "        # Since k3=kmax, and k1 < k2 < kmax, we can start small and work up\n",
    "        for k1 in np.linspace(kmin, kmax, n_points_k1):\n",
    "            # avoid duplicated [1,1,1]\n",
    "            if k1 == kmax:\n",
    "                points.append((k1, k2, 1.0))\n",
    "                continue\n",
    "            # k2 must be greater than k1 but less than 1\n",
    "            for k2 in np.arange(k1, kmax, step_size):\n",
    "                if k2==1.:\n",
    "                    print('kztest')\n",
    "                # Check triangle inequality: 1 < k1 + k2\n",
    "                if 1 <= k1 + k2:\n",
    "                    points.append((k1, k2, 1.0)) # k3=1.0 in this function, kmax is for k1/k3 and k2/k3\n",
    "        points = np.array(points)\n",
    "        print('kz tesitng', points.shape)\n",
    "        ### END ver=0\n",
    "        \n",
    "        ### START ver=1\n",
    "        assert kmin>=0 #kmax<=1 # these are relativequantities\n",
    "        k1,k2 = np.meshgrid(*[np.linspace(kmin, kmax, n_points_k1) for _ in range(2)])\n",
    "\n",
    "        # kfilt = (np.abs(k2-k1)<=1)&(k2+k1>=1)&(k2>=k1)&(1>=k2)\n",
    "        kfilt = (np.abs(k2-k1)<=1)&(k2+k1>=1)&(k2>=k1)&(kmax>=k2)\n",
    "\n",
    "        points2 = np.asarray([k1[kfilt].ravel(),k2[kfilt].ravel(),np.ones_like(k1[kfilt]).ravel()]).T\n",
    "        print('kz tesitng', points2.shape)\n",
    "        return np.vstack((points, points2))\n",
    "        ### END ver=1\n",
    "    \n",
    "    # fix the step size according to n_points_k1\n",
    "    if k2_sample_version==0:\n",
    "        if n_points_k2 is None:\n",
    "            n_points_k2 = n_points_k1\n",
    "        if kmax is None:\n",
    "            kmax = 1.0\n",
    "\n",
    "        step_size = (kmax-kmin)/n_points_k1\n",
    "        # Since k3=kmax, and k1 < k2 < kmax, we can start small and work up\n",
    "        for k1 in np.linspace(kmin, kmax, n_points_k1):\n",
    "            # avoid duplicated [1,1,1]\n",
    "            if k1 == kmax:\n",
    "                points.append((k1, k2, 1.0))\n",
    "                continue\n",
    "            # k2 must be greater than k1 but less than 1\n",
    "            for k2 in np.arange(k1, kmax, step_size):\n",
    "                # Check triangle inequality: 1 <= k1 + k2\n",
    "                if 1 <= k1 + k2:\n",
    "                    points.append((k1, k2, 1.0)) # k3=1.0 in this function, kmax is for k1/k3 and k2/k3\n",
    "        return np.array(points)\n",
    "\n",
    "    if k2_sample_version==2:\n",
    "        assert kmin>=0 #, kmax<=1 # these are relativequantities\n",
    "        k1,k2 = np.meshgrid(*[np.linspace(kmin, kmax, n_points_k1) for _ in range(2)])\n",
    "\n",
    "        # kfilt = (np.abs(k2-k1)<=1)&(k2+k1>=1)&(k2>=k1)&(1>=k2)\n",
    "        kfilt = (np.abs(k2-k1)<=1)&(k2+k1>=1)&(k2>=k1)&(kmax>=k2)\n",
    "\n",
    "        points = np.asarray([k1[kfilt].ravel(),k2[kfilt].ravel(),np.ones_like(k1[kfilt]).ravel()]).T\n",
    "        \n",
    "        return np.array(points)"
   ]
  },
  {
   "cell_type": "code",
   "execution_count": 3,
   "id": "aa19bc62-1266-4736-8ab1-50604ceb7824",
   "metadata": {
    "tags": []
   },
   "outputs": [
    {
     "name": "stdout",
     "output_type": "stream",
     "text": [
      "k2 min 0.5102041\n",
      "k2 min 0.5102041 where k1 is [0.48979592 0.5102041 ]\n",
      "k shape (638, 3)\n"
     ]
    },
    {
     "name": "stderr",
     "output_type": "stream",
     "text": [
      "/tmp/ipykernel_1111954/4000125016.py:13: RuntimeWarning: divide by zero encountered in divide\n",
      "  return (k1/k2 + k2/k1 + k1/k3 + k3/k1 + k2/k3 + k3/k2)\\\n",
      "/tmp/ipykernel_1111954/4000125016.py:14: RuntimeWarning: divide by zero encountered in divide\n",
      "  - (k1**2 / (k2 * k3) + k2**2 / (k1 * k3) + k3**2 / (k1 * k2)) - 2\n",
      "/tmp/ipykernel_1111954/4000125016.py:13: RuntimeWarning: invalid value encountered in subtract\n",
      "  return (k1/k2 + k2/k1 + k1/k3 + k3/k1 + k2/k3 + k3/k2)\\\n"
     ]
    },
    {
     "data": {
      "text/plain": [
       "<matplotlib.legend.Legend at 0x7fb29a0838b0>"
      ]
     },
     "execution_count": 3,
     "metadata": {},
     "output_type": "execute_result"
    },
    {
     "data": {
      "image/png": "[encoded data removed]",
      "text/plain": [
       "<Figure size 640x480 with 1 Axes>"
      ]
     },
     "metadata": {},
     "output_type": "display_data"
    }
   ],
   "source": [
    "k_vals, bk = create_bk_dataset(grid_points=50, func_name='bk_eq', func_arg=None, kmin=0.0,\\\n",
    "                               kmax=1.0, n_points_k2=None, scale_invariant=True, k2_sample_version=2)\n",
    "k_vals = k_vals.numpy()\n",
    "bk = bk.numpy()\n",
    "print('k2 min', k_vals[:,1].min())\n",
    "print('k2 min', k_vals[:,1].min(), 'where k1 is', k_vals[:,0][np.where(k_vals[:,1]==k_vals[:,1].min())[0]])\n",
    "print('k shape', k_vals.shape)\n",
    "plt.scatter(k_vals[:,0], k_vals[:,1], s=3,label='v2')\n",
    "\n",
    "plt.legend()"
   ]
  },
  {
   "cell_type": "code",
   "execution_count": 4,
   "id": "9ed5abcc-dafa-41c7-aeda-4e2f5292e578",
   "metadata": {
    "tags": []
   },
   "outputs": [
    {
     "data": {
      "text/plain": [
       "(50,)"
      ]
     },
     "execution_count": 4,
     "metadata": {},
     "output_type": "execute_result"
    }
   ],
   "source": [
    "np.where(k_vals[:,1]==1)[0].shape"
   ]
  },
  {
   "cell_type": "code",
   "execution_count": 5,
   "id": "51ba9687-d2d9-4a6c-af30-12260d07777d",
   "metadata": {
    "tags": []
   },
   "outputs": [
    {
     "name": "stdout",
     "output_type": "stream",
     "text": [
      "kz tesitng (62500, 3)\n",
      "kz tesitng (62612, 3)\n",
      "k2 min 0.501002 where k1 is [0.501002 0.501002]\n"
     ]
    },
    {
     "name": "stderr",
     "output_type": "stream",
     "text": [
      "/tmp/ipykernel_1111954/4000125016.py:13: RuntimeWarning: divide by zero encountered in divide\n",
      "  return (k1/k2 + k2/k1 + k1/k3 + k3/k1 + k2/k3 + k3/k2)\\\n",
      "/tmp/ipykernel_1111954/4000125016.py:14: RuntimeWarning: divide by zero encountered in divide\n",
      "  - (k1**2 / (k2 * k3) + k2**2 / (k1 * k3) + k3**2 / (k1 * k2)) - 2\n",
      "/tmp/ipykernel_1111954/4000125016.py:13: RuntimeWarning: invalid value encountered in subtract\n",
      "  return (k1/k2 + k2/k1 + k1/k3 + k3/k1 + k2/k3 + k3/k2)\\\n"
     ]
    },
    {
     "data": {
      "text/plain": [
       "<matplotlib.collections.PathCollection at 0x7fb297461fd0>"
      ]
     },
     "execution_count": 5,
     "metadata": {},
     "output_type": "execute_result"
    },
    {
     "data": {
      "image/png": "[encoded data removed]",
      "text/plain": [
       "<Figure size 640x480 with 1 Axes>"
      ]
     },
     "metadata": {},
     "output_type": "display_data"
    }
   ],
   "source": [
    "k_vals, bk = create_bk_dataset(grid_points=500, func_name='bk_eq', func_arg=None, kmin=0.0,\\\n",
    "                               kmax=1.0, n_points_k2=None, scale_invariant=True, k2_sample_version='full_uniform')\n",
    "k_vals = k_vals.numpy()\n",
    "bk = bk.numpy()\n",
    "print('k2 min', k_vals[:,1].min(), 'where k1 is', k_vals[:,0][np.where(k_vals[:,1]==k_vals[:,1].min())[0]])\n",
    "\n",
    "plt.scatter(k_vals[:,0], k_vals[:,1], s=3, alpha=0.5, label='v0')\n",
    "\n"
   ]
  },
  {
   "cell_type": "code",
   "execution_count": 6,
   "id": "dd3590e3-089b-44b7-b649-bdd91dff496f",
   "metadata": {
    "tags": []
   },
   "outputs": [
    {
     "name": "stdout",
     "output_type": "stream",
     "text": [
      "k2 min 0.501002 where k1 is [0.501002]\n",
      "k shape (62500, 3)\n",
      "k2 min 0.501002\n",
      "k2 min 0.501002 where k1 is [0.501002]\n",
      "k shape (62612, 3)\n"
     ]
    },
    {
     "name": "stderr",
     "output_type": "stream",
     "text": [
      "/tmp/ipykernel_1111954/4000125016.py:13: RuntimeWarning: divide by zero encountered in divide\n",
      "  return (k1/k2 + k2/k1 + k1/k3 + k3/k1 + k2/k3 + k3/k2)\\\n",
      "/tmp/ipykernel_1111954/4000125016.py:14: RuntimeWarning: divide by zero encountered in divide\n",
      "  - (k1**2 / (k2 * k3) + k2**2 / (k1 * k3) + k3**2 / (k1 * k2)) - 2\n",
      "/tmp/ipykernel_1111954/4000125016.py:13: RuntimeWarning: invalid value encountered in subtract\n",
      "  return (k1/k2 + k2/k1 + k1/k3 + k3/k1 + k2/k3 + k3/k2)\\\n"
     ]
    },
    {
     "data": {
      "text/plain": [
       "<matplotlib.legend.Legend at 0x7fb2979f0340>"
      ]
     },
     "execution_count": 6,
     "metadata": {},
     "output_type": "execute_result"
    },
    {
     "data": {
      "image/png": "[encoded data removed]",
      "text/plain": [
       "<Figure size 640x480 with 1 Axes>"
      ]
     },
     "metadata": {},
     "output_type": "display_data"
    }
   ],
   "source": [
    "k_vals, bk = create_bk_dataset(grid_points=500, func_name='bk_eq', func_arg=None, kmin=0.0,\\\n",
    "                               kmax=1.0, n_points_k2=None, scale_invariant=True, k2_sample_version=0)\n",
    "k_vals = k_vals.numpy()\n",
    "bk = bk.numpy()\n",
    "print('k2 min', k_vals[:,1].min(), 'where k1 is', k_vals[:,0][np.where(k_vals[:,1]==k_vals[:,1].min())[0]])\n",
    "print('k shape', k_vals.shape)\n",
    "plt.scatter(k_vals[:,0], k_vals[:,1], s=3, alpha=0.5, label='v0')\n",
    "\n",
    "\n",
    "# k_vals, bk = create_bk_dataset(grid_points=50, func_name='bk_eq', func_arg=None, kmin=0.0,\\\n",
    "#                                kmax=1.05, n_points_k2=None, scale_invariant=True, k2_sample_version=0)\n",
    "# k_vals = k_vals.numpy()\n",
    "# bk = bk.numpy()\n",
    "# k_vals[:,1]\n",
    "\n",
    "# plt.scatter(k_vals[:,0], k_vals[:,1], s=3, alpha=0.5, label='more kmax')\n",
    "\n",
    "k_vals, bk = create_bk_dataset(grid_points=500, func_name='bk_eq', func_arg=None, kmin=0.0,\\\n",
    "                               kmax=1.0, n_points_k2=None, scale_invariant=True, k2_sample_version=2)\n",
    "k_vals = k_vals.numpy()\n",
    "bk = bk.numpy()\n",
    "print('k2 min', k_vals[:,1].min())\n",
    "print('k2 min', k_vals[:,1].min(), 'where k1 is', k_vals[:,0][np.where(k_vals[:,1]==k_vals[:,1].min())[0]])\n",
    "print('k shape', k_vals.shape)\n",
    "# plt.scatter(k_vals[:,0], k_vals[:,1], s=3, alpha=0.5, label='v2')\n",
    "\n",
    "plt.legend()"
   ]
  },
  {
   "cell_type": "code",
   "execution_count": 7,
   "id": "a2021d33-e838-40be-8104-8f6b4b1d5fa2",
   "metadata": {
    "tags": []
   },
   "outputs": [
    {
     "name": "stdout",
     "output_type": "stream",
     "text": [
      "k2 min 0.5025126\n",
      "k2 min 0.5025126 where k1 is [0.49748743 0.5025126 ]\n",
      "k2 min 0.5024623\n",
      "k2 min 0.5024623 where k1 is [0.5024623]\n"
     ]
    },
    {
     "name": "stderr",
     "output_type": "stream",
     "text": [
      "/tmp/ipykernel_1111954/4000125016.py:13: RuntimeWarning: divide by zero encountered in divide\n",
      "  return (k1/k2 + k2/k1 + k1/k3 + k3/k1 + k2/k3 + k3/k2)\\\n",
      "/tmp/ipykernel_1111954/4000125016.py:14: RuntimeWarning: divide by zero encountered in divide\n",
      "  - (k1**2 / (k2 * k3) + k2**2 / (k1 * k3) + k3**2 / (k1 * k2)) - 2\n",
      "/tmp/ipykernel_1111954/4000125016.py:13: RuntimeWarning: invalid value encountered in subtract\n",
      "  return (k1/k2 + k2/k1 + k1/k3 + k3/k1 + k2/k3 + k3/k2)\\\n"
     ]
    },
    {
     "data": {
      "text/plain": [
       "<matplotlib.legend.Legend at 0x7fb297490d30>"
      ]
     },
     "execution_count": 7,
     "metadata": {},
     "output_type": "execute_result"
    },
    {
     "data": {
      "image/png": "[encoded data removed]",
      "text/plain": [
       "<Figure size 640x480 with 1 Axes>"
      ]
     },
     "metadata": {},
     "output_type": "display_data"
    }
   ],
   "source": [
    "k_vals, bk = create_bk_dataset(grid_points=200, func_name='bk_eq', func_arg=None, kmin=0.0,\\\n",
    "                               kmax=1.0, n_points_k2=None, scale_invariant=True, k2_sample_version=2)\n",
    "k_vals = k_vals.numpy()\n",
    "bk = bk.numpy()\n",
    "print('k2 min', k_vals[:,1].min())\n",
    "print('k2 min', k_vals[:,1].min(), 'where k1 is', k_vals[:,0][np.where(k_vals[:,1]==k_vals[:,1].min())[0]])\n",
    "\n",
    "plt.scatter(k_vals[:,0], k_vals[:,1], s=3, alpha=0.5, label='v2')\n",
    "\n",
    "plt.legend()\n",
    "\n",
    "k_vals, bk = create_bk_dataset(grid_points=200, func_name='bk_eq', func_arg=None, kmin=0.0,\\\n",
    "                               kmax=1.01, n_points_k2=None, scale_invariant=True, k2_sample_version=2)\n",
    "k_vals = k_vals.numpy()\n",
    "bk = bk.numpy()\n",
    "print('k2 min', k_vals[:,1].min())\n",
    "print('k2 min', k_vals[:,1].min(), 'where k1 is', k_vals[:,0][np.where(k_vals[:,1]==k_vals[:,1].min())[0]])\n",
    "\n",
    "plt.scatter(k_vals[:,0], k_vals[:,1], s=3, alpha=0.5, label='v2 with kmax=1.1')\n",
    "\n",
    "plt.legend()"
   ]
  },
  {
   "cell_type": "code",
   "execution_count": 8,
   "id": "bd18f266-9984-4d12-9698-cb1b50ea8f88",
   "metadata": {
    "tags": []
   },
   "outputs": [
    {
     "name": "stdout",
     "output_type": "stream",
     "text": [
      "(2500, 3)\n"
     ]
    },
    {
     "data": {
      "text/plain": [
       "<matplotlib.collections.PathCollection at 0x7fb296b896a0>"
      ]
     },
     "execution_count": 8,
     "metadata": {},
     "output_type": "execute_result"
    },
    {
     "data": {
      "image/png": "[encoded data removed]",
      "text/plain": [
       "<Figure size 640x480 with 1 Axes>"
      ]
     },
     "metadata": {},
     "output_type": "display_data"
    }
   ],
   "source": [
    "k_vals, bk = create_bk_dataset(grid_points=100, func_name='bk_eq', func_arg=None, kmin=0.0001,\\\n",
    "                               kmax=1.0, n_points_k2=None, scale_invariant=True, k2_sample_version=0)\n",
    "k_vals = k_vals.numpy()\n",
    "bk = bk.numpy()\n",
    "# bk = bk*bk # TEST FOR INNER PRODUCT\n",
    "print(k_vals.shape)\n",
    "\n",
    "plt.scatter(k_vals[:,0], k_vals[:,1], s=0.1)"
   ]
  },
  {
   "cell_type": "code",
   "execution_count": 9,
   "id": "335c877d-29e7-4a57-ab38-09394beb034f",
   "metadata": {
    "tags": []
   },
   "outputs": [
    {
     "name": "stdout",
     "output_type": "stream",
     "text": [
      "(625, 3)\n",
      "(638, 3)\n"
     ]
    },
    {
     "name": "stderr",
     "output_type": "stream",
     "text": [
      "/tmp/ipykernel_1111954/4000125016.py:13: RuntimeWarning: divide by zero encountered in divide\n",
      "  return (k1/k2 + k2/k1 + k1/k3 + k3/k1 + k2/k3 + k3/k2)\\\n",
      "/tmp/ipykernel_1111954/4000125016.py:14: RuntimeWarning: divide by zero encountered in divide\n",
      "  - (k1**2 / (k2 * k3) + k2**2 / (k1 * k3) + k3**2 / (k1 * k2)) - 2\n",
      "/tmp/ipykernel_1111954/4000125016.py:13: RuntimeWarning: invalid value encountered in subtract\n",
      "  return (k1/k2 + k2/k1 + k1/k3 + k3/k1 + k2/k3 + k3/k2)\\\n"
     ]
    },
    {
     "data": {
      "text/plain": [
       "<matplotlib.legend.Legend at 0x7fb2979ecb80>"
      ]
     },
     "execution_count": 9,
     "metadata": {},
     "output_type": "execute_result"
    },
    {
     "data": {
      "image/png": "[encoded data removed]",
      "text/plain": [
       "<Figure size 640x480 with 1 Axes>"
      ]
     },
     "metadata": {},
     "output_type": "display_data"
    }
   ],
   "source": [
    "k_vals, bk = create_bk_dataset(grid_points=50, func_name='bk_eq', func_arg=None, kmin=0.0,\\\n",
    "                               kmax=1.0, n_points_k2=None, scale_invariant=True, k2_sample_version=0)\n",
    "k_vals = k_vals.numpy()\n",
    "bk = bk.numpy()\n",
    "# bk = bk*bk # TEST FOR INNER PRODUCT\n",
    "print(k_vals.shape)\n",
    "\n",
    "plt.scatter(k_vals[:,0], k_vals[:,1], s=3, alpha=0.5, label='v0')\n",
    "\n",
    "k_vals, bk = create_bk_dataset(grid_points=50, func_name='bk_eq', func_arg=None, kmin=0.0,\\\n",
    "                               kmax=1.0, n_points_k2=None, scale_invariant=True, k2_sample_version=2)\n",
    "k_vals = k_vals.numpy()\n",
    "bk = bk.numpy()\n",
    "# bk = bk*bk # TEST FOR INNER PRODUCT\n",
    "print(k_vals.shape)\n",
    "\n",
    "plt.scatter(k_vals[:,0], k_vals[:,1], s=3, alpha=0.5, label='v2')\n",
    "plt.legend()"
   ]
  },
  {
   "cell_type": "code",
   "execution_count": 10,
   "id": "604b0e2e-0445-471f-bfee-400e09c5619a",
   "metadata": {
    "tags": []
   },
   "outputs": [
    {
     "name": "stderr",
     "output_type": "stream",
     "text": [
      "/tmp/ipykernel_1111954/4000125016.py:13: RuntimeWarning: divide by zero encountered in divide\n",
      "  return (k1/k2 + k2/k1 + k1/k3 + k3/k1 + k2/k3 + k3/k2)\\\n",
      "/tmp/ipykernel_1111954/4000125016.py:14: RuntimeWarning: divide by zero encountered in divide\n",
      "  - (k1**2 / (k2 * k3) + k2**2 / (k1 * k3) + k3**2 / (k1 * k2)) - 2\n",
      "/tmp/ipykernel_1111954/4000125016.py:13: RuntimeWarning: invalid value encountered in subtract\n",
      "  return (k1/k2 + k2/k1 + k1/k3 + k3/k1 + k2/k3 + k3/k2)\\\n"
     ]
    },
    {
     "data": {
      "text/plain": [
       "<matplotlib.collections.PathCollection at 0x7fb29794fa30>"
      ]
     },
     "execution_count": 10,
     "metadata": {},
     "output_type": "execute_result"
    },
    {
     "data": {
      "image/png": "[encoded data removed]",
      "text/plain": [
       "<Figure size 640x480 with 1 Axes>"
      ]
     },
     "metadata": {},
     "output_type": "display_data"
    }
   ],
   "source": [
    "k_vals, bk = create_bk_dataset(grid_points=50, func_name='bk_eq', func_arg=None, kmin=0.0,\\\n",
    "                               kmax=1.0, n_points_k2=None, scale_invariant=True, k2_sample_version=0)\n",
    "k_vals = k_vals.numpy()\n",
    "bk = bk.numpy()\n",
    "k_vals[:,1]\n",
    "\n",
    "plt.scatter(k_vals[:,0], k_vals[:,1], s=3, alpha=0.5, label='v0')\n",
    "\n",
    "\n",
    "k_vals, bk = create_bk_dataset(grid_points=50, func_name='bk_eq', func_arg=None, kmin=0.0,\\\n",
    "                               kmax=1.05, n_points_k2=None, scale_invariant=True, k2_sample_version=0)\n",
    "k_vals = k_vals.numpy()\n",
    "bk = bk.numpy()\n",
    "k_vals[:,1]\n",
    "\n",
    "plt.scatter(k_vals[:,0], k_vals[:,1], s=3, alpha=0.5, label='more kmax')\n"
   ]
  },
  {
   "cell_type": "code",
   "execution_count": 28,
   "id": "87c01cd5-a4a0-4ca0-9eab-43a69b4685f1",
   "metadata": {
    "tags": []
   },
   "outputs": [],
   "source": [
    "def Delta_fNL_scale_w_interp_TEST(k_vals, bk_result_1, bk_result_2, kmin, scale_invariant=True, DEBUG=False):\n",
    "    \"\"\"\n",
    "    KZ note: I try to make the integration as defensive as possible for nans. But the interpolater can still give nan. \n",
    "            see:https://docs.scipy.org/doc/scipy/reference/generated/scipy.interpolate.LinearNDInterpolator.html#scipy.interpolate.LinearNDInterpolator\n",
    "            note the irregular of shapes of the interpolation boundaries\n",
    "            For now I'll just force these points to 0.\n",
    "            \n",
    "            In the future maybe consider extrapolation with interpn, but I don't fill safe with that.\n",
    "            \n",
    "    Compute integral using interpolation of grid data\n",
    "    from bk_result_1 and bk_result_2. This would give:\n",
    "    <bk_result_1-bk_result_2 | bk_result_1 - bk_result_2> / <bk_result_2 | bk_result_2>\n",
    "    \"\"\"\n",
    "    if not scale_invariant:\n",
    "        raise NotImplementedError\n",
    "\n",
    "    k1_grid = k_vals[:,0]\n",
    "    k2_grid = k_vals[:,1]\n",
    "    k3_grid = k_vals[:,2]\n",
    "    \n",
    "    assert np.all(k3_grid == 1), \"k3 is not all 1. ?\"\n",
    "    assert bk_result_1.shape[0] == bk_result_2.shape[0], \"the two sets of Bk should be evaluated at the same ks\"\n",
    "\n",
    "    # Create interpolation function\n",
    "    interp_func_1 = interpolate.CloughTocher2DInterpolator(\n",
    "        list(zip(k1_grid, k2_grid)), bk_result_1\n",
    "    )\n",
    "\n",
    "    interp_func_2 = interpolate.CloughTocher2DInterpolator(\n",
    "        list(zip(k1_grid, k2_grid)), bk_result_2\n",
    "    )\n",
    "    \n",
    "    def integrand_diff(x, y):\n",
    "        # Square the interpolated function value\n",
    "        return (interp_func_1(x, y) - interp_func_2(x, y))**2\n",
    "\n",
    "    def integrand_2(x, y):\n",
    "        # Square the interpolated function value\n",
    "        result = (interp_func_2(x, y))**2\n",
    "        if DEBUG:\n",
    "            if np.isnan(result):\n",
    "                print(f\"NaN encountered in integrand at x={x:.6f}, y={y:.6f}\")\n",
    "        return result\n",
    "    \n",
    "    def integrand_diff_safe(x, y):\n",
    "        if y >= x and y+x>1. and y <= 1.0 and x > kmin and x < 1.0:  # Only evaluate within the valid region\n",
    "            result = integrand_diff(x, y)\n",
    "        else:\n",
    "            result = 0.0  # Return 0 for points outside our region of interest\n",
    "        if DEBUG:\n",
    "            if np.isnan(result):\n",
    "                print(f\"NaN encountered in integrand at x={x:.6f}, y={y:.6f}\")\n",
    "        # KZ note: this is not ideal\n",
    "        if np.isnan(result):\n",
    "            result = 0.\n",
    "        return result\n",
    "    \n",
    "    def integrand_2_safe(x, y):\n",
    "        if y >= x and y+x>1. and y <= 1.0 and x > kmin and x < 1.0:  # Only evaluate within the valid region\n",
    "            result = integrand_2(x, y)\n",
    "        else:\n",
    "            result = 0.0  # Return 0 for points outside our region of interest\n",
    "        if DEBUG:\n",
    "            if np.isnan(result):\n",
    "                print(f\"NaN encountered in integrand at x={x:.6f}, y={y:.6f}\")\n",
    "        # KZ note: this is not ideal\n",
    "        if np.isnan(result):\n",
    "            result = 0.\n",
    "        return result\n",
    "    \n",
    "    # Inner product of 1 and 2\n",
    "    IP_1_2, error_1 = integrate.dblquad(\n",
    "        integrand_diff_safe,\n",
    "        kmin+1e-6, \n",
    "        1.,  # x limits\n",
    "        lambda x: 0., # note the for stablitiy the limit on y is handeled in integra_XX_safe\n",
    "        lambda x: 1.\n",
    "    )\n",
    "\n",
    "    IP_1_1, error_2 = integrate.dblquad(\n",
    "        integrand_2_safe,\n",
    "        kmin+1e-6, \n",
    "        1.,  # x limits\n",
    "        lambda x: 0., # note the for stablitiy the limit on y is handeled in integra_XX_safe\n",
    "        lambda x: 1.\n",
    "    )\n",
    "    \n",
    "    # KZ TESTING START\n",
    "    if DEBUG:\n",
    "        test_x = np.linspace(kmin, 1.0, 100)\n",
    "        test_y = np.linspace(0, 1.0, 100)\n",
    "        for x in test_x:\n",
    "            for y in test_y:\n",
    "                if y >= 1.0-x and y <= 1.0 and y>x:  # Only test points in your integration region\n",
    "                    val = integrand_2(x, y)\n",
    "                    if np.isnan(val):\n",
    "                        print(f\"Found NaN at x={x}, y={y}\")\n",
    "    # KZ TESTING END\n",
    "    print(IP_1_2, IP_1_1)\n",
    "    Delta_fNL = IP_1_2 / IP_1_1\n",
    "    print('true <B|B> is', IP_1_1)\n",
    "    print('The bias estimation of fNL is Delta_fNL = ', Delta_fNL)\n",
    "\n",
    "    return Delta_fNL\n"
   ]
  },
  {
   "cell_type": "code",
   "execution_count": 29,
   "id": "f38c1b2e-fcbd-4b20-aa79-1a8d869e3e25",
   "metadata": {},
   "outputs": [
    {
     "name": "stdout",
     "output_type": "stream",
     "text": [
      "(638, 3)\n"
     ]
    },
    {
     "name": "stderr",
     "output_type": "stream",
     "text": [
      "/tmp/ipykernel_1111954/4000125016.py:22: RuntimeWarning: divide by zero encountered in divide\n",
      "  +(k2**2/k1/k3) / (1. + (alpha*k2**2/k1/k3)**2) / 3\\\n",
      "/tmp/ipykernel_1111954/4000125016.py:22: RuntimeWarning: invalid value encountered in divide\n",
      "  +(k2**2/k1/k3) / (1. + (alpha*k2**2/k1/k3)**2) / 3\\\n",
      "/tmp/ipykernel_1111954/4000125016.py:23: RuntimeWarning: divide by zero encountered in divide\n",
      "  +(k3**2/k1/k2) / (1. + (alpha*k3**2/k1/k2)**2) / 3\n",
      "/tmp/ipykernel_1111954/4000125016.py:23: RuntimeWarning: invalid value encountered in divide\n",
      "  +(k3**2/k1/k2) / (1. + (alpha*k3**2/k1/k2)**2) / 3\n"
     ]
    }
   ],
   "source": [
    "k_vals, bk = create_bk_dataset(grid_points=50, func_name='bk_sl_collider', func_arg=None, kmin=0.0,\\\n",
    "                               kmax=1.0, n_points_k2=None, scale_invariant=True, k2_sample_version=2)\n",
    "k_vals = k_vals.numpy()\n",
    "bk = bk.numpy()\n",
    "print(k_vals.shape)"
   ]
  },
  {
   "cell_type": "code",
   "execution_count": 30,
   "id": "a0891c18-5fd3-48b2-bae2-52b0221732be",
   "metadata": {},
   "outputs": [],
   "source": [
    "from scipy import interpolate\n",
    "from scipy import integrate"
   ]
  },
  {
   "cell_type": "code",
   "execution_count": 32,
   "id": "686ff15b-295d-497d-bd50-00c261acfc7e",
   "metadata": {
    "tags": []
   },
   "outputs": [
    {
     "name": "stdout",
     "output_type": "stream",
     "text": [
      "0.0 0.0\n"
     ]
    },
    {
     "ename": "ZeroDivisionError",
     "evalue": "float division by zero",
     "output_type": "error",
     "traceback": [
      "\u001b[0;31m---------------------------------------------------------------------------\u001b[0m",
      "\u001b[0;31mZeroDivisionError\u001b[0m                         Traceback (most recent call last)",
      "Cell \u001b[0;32mIn[32], line 6\u001b[0m\n\u001b[1;32m      1\u001b[0m \u001b[38;5;124;03m\"\"\" KZ note:\u001b[39;00m\n\u001b[1;32m      2\u001b[0m \u001b[38;5;124;03m    for bk_eq, Mathematica gives: 0.1098022005. Pretty similar to this. and seems kmin = 0.01 is fine in this case. \u001b[39;00m\n\u001b[1;32m      3\u001b[0m \u001b[38;5;124;03m    A equilateral should peak at <1,1,1> anyways\u001b[39;00m\n\u001b[1;32m      4\u001b[0m \u001b[38;5;124;03m\"\"\"\u001b[39;00m\n\u001b[0;32m----> 6\u001b[0m \u001b[43mDelta_fNL_scale_w_interp_TEST\u001b[49m\u001b[43m(\u001b[49m\u001b[43mk_vals\u001b[49m\u001b[43m,\u001b[49m\u001b[43m \u001b[49m\u001b[43mbk\u001b[49m\u001b[43m,\u001b[49m\u001b[43m \u001b[49m\u001b[43mbk\u001b[49m\u001b[43m,\u001b[49m\u001b[43m \u001b[49m\u001b[43mkmin\u001b[49m\u001b[38;5;241;43m=\u001b[39;49m\u001b[43mk_vals\u001b[49m\u001b[38;5;241;43m.\u001b[39;49m\u001b[43mmin\u001b[49m\u001b[43m(\u001b[49m\u001b[43m)\u001b[49m\u001b[43m,\u001b[49m\u001b[43m \u001b[49m\u001b[43mDEBUG\u001b[49m\u001b[38;5;241;43m=\u001b[39;49m\u001b[38;5;28;43;01mFalse\u001b[39;49;00m\u001b[43m)\u001b[49m\n",
      "Cell \u001b[0;32mIn[28], line 100\u001b[0m, in \u001b[0;36mDelta_fNL_scale_w_interp_TEST\u001b[0;34m(k_vals, bk_result_1, bk_result_2, kmin, scale_invariant, DEBUG)\u001b[0m\n\u001b[1;32m     98\u001b[0m \u001b[38;5;66;03m# KZ TESTING END\u001b[39;00m\n\u001b[1;32m     99\u001b[0m \u001b[38;5;28mprint\u001b[39m(IP_1_2, IP_1_1)\n\u001b[0;32m--> 100\u001b[0m Delta_fNL \u001b[38;5;241m=\u001b[39m \u001b[43mIP_1_2\u001b[49m\u001b[43m \u001b[49m\u001b[38;5;241;43m/\u001b[39;49m\u001b[43m \u001b[49m\u001b[43mIP_1_1\u001b[49m\n\u001b[1;32m    101\u001b[0m \u001b[38;5;28mprint\u001b[39m(\u001b[38;5;124m'\u001b[39m\u001b[38;5;124mtrue <B|B> is\u001b[39m\u001b[38;5;124m'\u001b[39m, IP_1_1)\n\u001b[1;32m    102\u001b[0m \u001b[38;5;28mprint\u001b[39m(\u001b[38;5;124m'\u001b[39m\u001b[38;5;124mThe bias estimation of fNL is Delta_fNL = \u001b[39m\u001b[38;5;124m'\u001b[39m, Delta_fNL)\n",
      "\u001b[0;31mZeroDivisionError\u001b[0m: float division by zero"
     ]
    }
   ],
   "source": [
    "\"\"\" KZ note:\n",
    "    for bk_eq, Mathematica gives: 0.1098022005. Pretty similar to this. and seems kmin = 0.01 is fine in this case. \n",
    "    A equilateral should peak at <1,1,1> anyways\n",
    "\"\"\"\n",
    "\n",
    "Delta_fNL_scale_w_interp_TEST(k_vals, bk, bk, kmin=k_vals.min(), DEBUG=False)\n"
   ]
  },
  {
   "cell_type": "code",
   "execution_count": null,
   "id": "e1b06cdc-13e3-49ff-baff-ccd96e265ab7",
   "metadata": {
    "tags": []
   },
   "outputs": [],
   "source": [
    "# other tests: add 0.1 to every point at bk gives bias = 0.022?? is this too small? But if not than the training seems to be completely ok\n",
    "# maybe not impossible because mse should be of this order, and the integration over S^2 should be similar\n",
    "\n",
    "Delta_fNL_scale_w_interp_TEST(k_vals, bk+0.1, bk, kmin=k_vals.min(), DEBUG=False)"
   ]
  },
  {
   "cell_type": "code",
   "execution_count": null,
   "id": "5094757d-5f1d-49c9-945e-358e270f7e46",
   "metadata": {},
   "outputs": [],
   "source": []
  },
  {
   "cell_type": "code",
   "execution_count": null,
   "id": "4522c302-1414-4e9e-89c6-f26f3fc94d9d",
   "metadata": {},
   "outputs": [],
   "source": []
  },
  {
   "cell_type": "markdown",
   "id": "ee564be4-3670-4cb6-9544-759ba278d7fa",
   "metadata": {},
   "source": [
    "# below is test"
   ]
  },
  {
   "cell_type": "code",
   "execution_count": null,
   "id": "9c30b4f5-79ed-4a4c-a26a-15b1a26087fc",
   "metadata": {},
   "outputs": [],
   "source": [
    "def plot_3d_data(xy_vals, bk, method='scatter', title='3D Plot'):\n",
    "    \"\"\"\n",
    "    Plot 3D data with color mapping\n",
    "    \n",
    "    Args:\n",
    "        k_vals: array of shape (N, 2) containing x and y coordinates\n",
    "        bk: array of shape (N,) containing z values\n",
    "        method: 'scatter' or 'surface'\n",
    "        title: plot title\n",
    "    \"\"\"\n",
    "    fig = plt.figure(figsize=(10, 8))\n",
    "    ax = plt.axes(projection='3d')\n",
    "    \n",
    "    # Set viewing angle\n",
    "    ax.azim = -75\n",
    "    ax.dist = 10\n",
    "    ax.elev = 30\n",
    "    \n",
    "    x = xy_vals[:, 0]\n",
    "    y = xy_vals[:, 1]\n",
    "    z = bk.flatten()\n",
    "    \n",
    "    if method == 'scatter':\n",
    "        # Create scatter plot with color mapping\n",
    "        scatter = ax.scatter3D(x, y, z, \n",
    "                             c=z,  # Color by z value\n",
    "                             cmap='viridis',  # Choose colormap\n",
    "                             s=30,  # Marker size\n",
    "                             alpha=0.6)  # Transparency\n",
    "        \n",
    "        # Add colorbar\n",
    "        fig.colorbar(scatter, ax=ax, label='Z Value')\n",
    "        \n",
    "    elif method == 'surface':\n",
    "        # Create triangulation surface plot\n",
    "        surf = ax.plot_trisurf(x, y, z,\n",
    "                             cmap='viridis',\n",
    "                             alpha=0.8)\n",
    "        \n",
    "        # Add colorbar\n",
    "        fig.colorbar(surf, ax=ax, label='Z Value')\n",
    "    \n",
    "    # Labels and title\n",
    "    ax.set_xlabel('X')\n",
    "    ax.set_ylabel('Y')\n",
    "    ax.set_zlabel('Z')\n",
    "    ax.set_title(title)\n",
    "    \n",
    "    # Set axis limits if needed\n",
    "    # ax.set_xlim([x.min(), x.max()])\n",
    "    # ax.set_ylim([y.min(), y.max()])\n",
    "    # ax.set_zlim([z.min(), z.max()])\n",
    "    \n",
    "    plt.show()"
   ]
  },
  {
   "cell_type": "code",
   "execution_count": null,
   "id": "d4815288-87df-4779-8758-680024021584",
   "metadata": {
    "tags": []
   },
   "outputs": [],
   "source": [
    "\n",
    "# Generate sample data\n",
    "n_points = k_vals.shape[0]\n",
    "x = k_vals[:,0]\n",
    "y = k_vals[:,1]\n",
    "z = bk.flatten()\n",
    "\n",
    "xy_vals = np.column_stack((x, y))\n",
    "\n",
    "# Create both types of plots\n",
    "plot_3d_data(xy_vals, z, method='scatter', title='3D Scatter Plot with Color Mapping')\n"
   ]
  },
  {
   "cell_type": "code",
   "execution_count": null,
   "id": "e6b005c0-cee3-4e97-96fb-81cf2abcd589",
   "metadata": {
    "tags": []
   },
   "outputs": [],
   "source": [
    "k1_grid = k_vals[:,0]\n",
    "k2_grid = k_vals[:,1]\n",
    "kmin = k_vals.min()\n",
    "\n",
    "# Check interpolation domain coverage\n",
    "print(\"k1_grid range:\", np.min(k1_grid), np.max(k1_grid))\n",
    "print(\"k2_grid range:\", np.min(k2_grid), np.max(k2_grid))\n",
    "\n",
    "# Plot interpolation points and integration domain\n",
    "plt.scatter(k1_grid, k2_grid, c='blue', alpha=0.5, label='Interpolation points')\n",
    "\n",
    "# Plot integration domain\n",
    "x = np.linspace(kmin, 1, 100)\n",
    "y_min = np.maximum(x, 1-x)\n",
    "y_max = np.ones_like(x)\n",
    "# print(y_min, y_max)\n",
    "plt.fill_between(x, y_min, y_max, alpha=0.3, color='red', label='Integration domain')\n",
    "\n",
    "plt.legend()\n",
    "plt.xlabel('k1')\n",
    "plt.ylabel('k2')\n",
    "plt.title('Interpolation Points vs Integration Domain')\n",
    "plt.show()"
   ]
  },
  {
   "cell_type": "code",
   "execution_count": null,
   "id": "70ab3518-b8ac-4b6b-9dd3-b4e595f640dd",
   "metadata": {
    "tags": []
   },
   "outputs": [],
   "source": [
    "\n",
    "\n",
    "interp_func_2 = interpolate.CloughTocher2DInterpolator(\n",
    "        list(zip(k1_grid, k2_grid)), bk)"
   ]
  },
  {
   "cell_type": "code",
   "execution_count": null,
   "id": "8730aeae-0a8a-4b16-8cae-7adf9354fe9d",
   "metadata": {
    "tags": []
   },
   "outputs": [],
   "source": [
    "# KZ note: this still is nan, has to do with interpolator\n",
    "\n",
    "testx=0.361336\n",
    "testy=0.638669\n",
    "print(testx+testy)\n",
    "interp_func_2(testx, testy)"
   ]
  },
  {
   "cell_type": "code",
   "execution_count": null,
   "id": "a66af25b-ccfd-43e9-afe3-8c656e23e6cb",
   "metadata": {
    "tags": []
   },
   "outputs": [],
   "source": [
    "# Plot interpolation points and integration domain\n",
    "plt.scatter(k1_grid, k2_grid, c='blue', alpha=0.5, label='Interpolation points')\n",
    "\n",
    "plt.scatter(testx, testy, c='red')"
   ]
  },
  {
   "cell_type": "code",
   "execution_count": null,
   "id": "6072580c-4ca8-409e-af74-ec287ac7580a",
   "metadata": {},
   "outputs": [],
   "source": []
  }
 ],
 "metadata": {
  "kernelspec": {
   "display_name": "py39",
   "language": "python",
   "name": "py39"
  },
  "language_info": {
   "codemirror_mode": {
    "name": "ipython",
    "version": 3
   },
   "file_extension": ".py",
   "mimetype": "text/x-python",
   "name": "python",
   "nbconvert_exporter": "python",
   "pygments_lexer": "ipython3",
   "version": "3.9.19"
  }
 },
 "nbformat": 4,
 "nbformat_minor": 5
}
