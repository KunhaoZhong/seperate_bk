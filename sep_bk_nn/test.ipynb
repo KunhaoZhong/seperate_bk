{
 "cells": [
  {
   "cell_type": "code",
   "execution_count": 1,
   "metadata": {},
   "outputs": [],
   "source": [
    "import numpy as np\n",
    "from bk_functions import *"
   ]
  },
  {
   "cell_type": "code",
   "execution_count": 2,
   "metadata": {},
   "outputs": [],
   "source": [
    "test_k_val = generate_scale_invariant_k_points(4,kmin = 0.001, kmax=1.2, n_points_k2 = None)"
   ]
  },
  {
   "cell_type": "code",
   "execution_count": 3,
   "metadata": {},
   "outputs": [
    {
     "name": "stdout",
     "output_type": "stream",
     "text": [
      "[[1.00000000e-03 1.20000000e+00 1.00000000e+00]\n",
      " [4.00666667e-01 6.67111111e-01 1.00000000e+00]\n",
      " [4.00666667e-01 9.33555556e-01 1.00000000e+00]\n",
      " [4.00666667e-01 1.20000000e+00 1.00000000e+00]\n",
      " [8.00333333e-01 8.00333333e-01 1.00000000e+00]\n",
      " [8.00333333e-01 9.33555556e-01 1.00000000e+00]\n",
      " [8.00333333e-01 1.06677778e+00 1.00000000e+00]\n",
      " [8.00333333e-01 1.20000000e+00 1.00000000e+00]\n",
      " [1.20000000e+00 1.20000000e+00 1.00000000e+00]]\n"
     ]
    }
   ],
   "source": [
    "print(test_k_val)"
   ]
  },
  {
   "cell_type": "code",
   "execution_count": 4,
   "metadata": {},
   "outputs": [
    {
     "data": {
      "text/plain": [
       "array([1., 1., 1.])"
      ]
     },
     "execution_count": 4,
     "metadata": {},
     "output_type": "execute_result"
    }
   ],
   "source": [
    "np.linspace(1., 1.0, 3)"
   ]
  },
  {
   "cell_type": "code",
   "execution_count": null,
   "metadata": {},
   "outputs": [],
   "source": []
  }
 ],
 "metadata": {
  "kernelspec": {
   "display_name": "py39",
   "language": "python",
   "name": "python3"
  },
  "language_info": {
   "codemirror_mode": {
    "name": "ipython",
    "version": 3
   },
   "file_extension": ".py",
   "mimetype": "text/x-python",
   "name": "python",
   "nbconvert_exporter": "python",
   "pygments_lexer": "ipython3",
   "version": "3.9.19"
  }
 },
 "nbformat": 4,
 "nbformat_minor": 2
}
