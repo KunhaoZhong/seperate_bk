{
 "cells": [
  {
   "cell_type": "code",
   "execution_count": 1,
   "metadata": {
    "tags": []
   },
   "outputs": [],
   "source": [
    "import numpy as np\n",
    "from bk_functions import *\n",
    "from scipy import integrate\n",
    "import matplotlib.pyplot as plt"
   ]
  },
  {
   "cell_type": "code",
   "execution_count": 19,
   "metadata": {
    "tags": []
   },
   "outputs": [],
   "source": [
    "test_k_val = generate_scale_invariant_k_points(100, kmin = 0.001, kmax=1.0, n_points_k2 = None)"
   ]
  },
  {
   "cell_type": "code",
   "execution_count": 52,
   "metadata": {
    "tags": []
   },
   "outputs": [
    {
     "name": "stdout",
     "output_type": "stream",
     "text": [
      "[[0.001      1.         1.        ]\n",
      " [0.01109091 0.99001102 1.        ]\n",
      " [0.01109091 1.         1.        ]\n",
      " [0.02118182 0.9802259  1.        ]\n",
      " [0.02118182 0.99011295 1.        ]\n",
      " [0.02118182 1.         1.        ]\n",
      " [0.03127273 0.97064463 1.        ]\n",
      " [0.03127273 0.98042975 1.        ]\n",
      " [0.03127273 0.99021488 1.        ]\n",
      " [0.03127273 1.         1.        ]]\n",
      "(6831, 3)\n",
      "(100,)\n",
      "(2762,)\n"
     ]
    }
   ],
   "source": [
    "print(test_k_val[0:10])\n",
    "\n",
    "print(test_k_val.shape)\n",
    "\n",
    "print(np.unique(test_k_val[:,0]).shape)\n",
    "print(np.unique(test_k_val[:,1]).shape)"
   ]
  },
  {
   "cell_type": "code",
   "execution_count": 38,
   "metadata": {
    "tags": []
   },
   "outputs": [
    {
     "name": "stdout",
     "output_type": "stream",
     "text": [
      "(100,)\n",
      "(2762,)\n"
     ]
    }
   ],
   "source": [
    "print(np.unique(test_k_val[:,0]).shape)\n",
    "print(np.unique(test_k_val[:,1]).shape)\n"
   ]
  },
  {
   "cell_type": "code",
   "execution_count": 5,
   "metadata": {
    "tags": []
   },
   "outputs": [
    {
     "name": "stdout",
     "output_type": "stream",
     "text": [
      "Inner product (volume) = 0.219604\n",
      "Estimated error = 1.397274e-08\n",
      "\n",
      "Sample function values:\n",
      "f(0.2, 1.2, 1.0) = 0.000000\n",
      "f(0.5, 1.5, 1.0) = 0.000000\n",
      "f(0.8, 1.8, 1.0) = 0.000000\n"
     ]
    }
   ],
   "source": [
    "def f(k1, k2, k3=1.0):\n",
    "    \"\"\"\n",
    "    Calculate the function value for given k1, k2, k3\n",
    "    Returns (k1²/(k2*k3) + k2²/(k1*k3) + k3²/(k1*k2))/3\n",
    "    \"\"\"\n",
    "    return (k1/k2 + k2/k1 + k1/k3 + k3/k1 + k2/k3 + k3/k2)\\\n",
    "         - (k1**2 / (k2 * k3) + k2**2 / (k1 * k3) + k3**2 / (k1 * k2)) - 2\n",
    "\n",
    "def integrand(x, y):\n",
    "    \"\"\"\n",
    "    Calculate f(x,y,1)^2 for the inner product\n",
    "    \"\"\"\n",
    "    return f(x, y, 1.0)**2\n",
    "\n",
    "# Calculate the double integral\n",
    "result, error = integrate.dblquad(\n",
    "    integrand,           # function to integrate\n",
    "    0.,                  # x lower bound\n",
    "    1.,                  # x upper bound\n",
    "    lambda x: 1.-x,  # y lower bound as function of x\n",
    "    lambda x: 1.   # y upper bound as function of x\n",
    ")\n",
    "\n",
    "print(f\"Inner product (volume) = {result:.6f}\")\n",
    "print(f\"Estimated error = {error:.6e}\")\n",
    "\n",
    "# Let's also create a grid of points to visualize the integration region\n",
    "x = np.linspace(0, 1, 10000)\n",
    "y_lower = np.array([max(1-xi, xi) for xi in x])\n",
    "y_upper = np.full_like(x, 2)\n",
    "\n",
    "# Print some sample function values\n",
    "print(\"\\nSample function values:\")\n",
    "test_points = [(0.2, 1.2), (0.5, 1.5), (0.8, 1.8)]\n",
    "for x, y in test_points:\n",
    "    print(f\"f({x:.1f}, {y:.1f}, 1.0) = {f(x, y):.6f}\")"
   ]
  },
  {
   "cell_type": "code",
   "execution_count": null,
   "metadata": {},
   "outputs": [],
   "source": [
    "from scipy.interpolate import LinearNDInterpolator\n",
    "import numpy as np\n",
    "import matplotlib.pyplot as plt\n",
    "rng = np.random.default_rng()\n",
    "x = rng.random(10) - 0.5\n",
    "y = rng.random(10) - 0.5\n",
    "z = np.hypot(x, y)\n",
    "X = np.linspace(min(x), max(x))\n",
    "Y = np.linspace(min(y), max(y))\n",
    "X, Y = np.meshgrid(X, Y)  # 2D grid for interpolation\n",
    "interp = LinearNDInterpolator(list(zip(x, y)), z)\n",
    "Z = interp(X, Y)\n",
    "plt.pcolormesh(X, Y, Z, shading='auto')\n",
    "plt.plot(x, y, \"ok\", label=\"input point\")\n",
    "plt.legend()\n",
    "plt.colorbar()\n",
    "plt.axis(\"equal\")\n",
    "plt.show()"
   ]
  },
  {
   "cell_type": "code",
   "execution_count": null,
   "metadata": {},
   "outputs": [],
   "source": []
  }
 ],
 "metadata": {
  "kernelspec": {
   "display_name": "py39",
   "language": "python",
   "name": "py39"
  },
  "language_info": {
   "codemirror_mode": {
    "name": "ipython",
    "version": 3
   },
   "file_extension": ".py",
   "mimetype": "text/x-python",
   "name": "python",
   "nbconvert_exporter": "python",
   "pygments_lexer": "ipython3",
   "version": "3.9.19"
  }
 },
 "nbformat": 4,
 "nbformat_minor": 4
}
