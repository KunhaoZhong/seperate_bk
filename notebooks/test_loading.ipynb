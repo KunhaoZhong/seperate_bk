{
 "cells": [
  {
   "cell_type": "markdown",
   "id": "231b326e-a917-4e05-b31d-529f14951b4e",
   "metadata": {},
   "source": [
    "# Test loading functions\n",
    "\n",
    "### test loading the sepearet forms and see the difference with bk_eq"
   ]
  },
  {
   "cell_type": "code",
   "execution_count": 1,
   "id": "952884bc-62ee-4ef4-b489-b1575c03b2fe",
   "metadata": {
    "tags": []
   },
   "outputs": [],
   "source": [
    "import numpy as np\n",
    "import torch\n",
    "from sep_bk_nn import SepBKNN\n",
    "from bk_functions import create_bk_dataset\n",
    "from bk_functions import bk_function_equilateral\n",
    "from torch.utils.data import TensorDataset, DataLoader\n",
    "from torchsummary import summary\n",
    "import matplotlib.pyplot as plt"
   ]
  },
  {
   "cell_type": "code",
   "execution_count": 2,
   "id": "ddc2d0d7-29f3-4c0f-a929-14263b2e808b",
   "metadata": {
    "tags": []
   },
   "outputs": [
    {
     "name": "stderr",
     "output_type": "stream",
     "text": [
      "/global/cfs/cdirs/des/kunhaoz/projects/seperate_bk/sep_bk_nn/sep_bk_nn.py:191: FutureWarning: You are using `torch.load` with `weights_only=False` (the current default value), which uses the default pickle module implicitly. It is possible to construct malicious pickle data which will execute arbitrary code during unpickling (See https://github.com/pytorch/pytorch/blob/main/SECURITY.md#untrusted-models for more details). In a future release, the default value for `weights_only` will be flipped to `True`. This limits the functions that could be executed during unpickling. Arbitrary objects will no longer be allowed to be loaded via this mode unless they are explicitly allowlisted by the user via `torch.serialization.add_safe_globals`. We recommend you start setting `weights_only=True` for any use case where you don't have full control of the loaded file. Please open an issue on GitHub for any issues related to this experimental feature.\n",
      "  checkpoint = torch.load(filepath, map_location=device)\n"
     ]
    },
    {
     "name": "stdout",
     "output_type": "stream",
     "text": [
      "Model loaded from models/sep_bk_nn_test_6.pth\n"
     ]
    }
   ],
   "source": [
    "loaded_model = SepBKNN.load_model('models/sep_bk_nn_test_6.pth', device=torch.device('cuda'))"
   ]
  },
  {
   "cell_type": "code",
   "execution_count": null,
   "id": "00a1038a-9bef-4188-bac2-1b2c1d328cc4",
   "metadata": {
    "tags": []
   },
   "outputs": [],
   "source": []
  },
  {
   "cell_type": "code",
   "execution_count": 3,
   "id": "4c7a16bb-6d2a-485f-a2f6-9af07c4df231",
   "metadata": {},
   "outputs": [],
   "source": [
    "BK_FUNC = 'bk_eq'\n",
    "FUN_ARG = None\n",
    "NUM_TERMS = 1\n",
    "SYMM_KIND = 2\n",
    "KMIN = 0.01\n",
    "\n",
    "batch_size = 512\n",
    "\n",
    "X_test, y_test = create_bk_dataset(grid_points=1000, func_name=BK_FUNC, func_arg=FUN_ARG, scale_invariant=True)\n",
    "\n",
    "test_dataset = TensorDataset(X_test, y_test)\n",
    "test_loader = DataLoader(test_dataset, batch_size=batch_size)"
   ]
  },
  {
   "cell_type": "code",
   "execution_count": 4,
   "id": "edbeac78-1276-465a-aa43-e3d002adf8ff",
   "metadata": {},
   "outputs": [
    {
     "data": {
      "text/plain": [
       "0.00017347901764940468"
      ]
     },
     "execution_count": 4,
     "metadata": {},
     "output_type": "execute_result"
    }
   ],
   "source": [
    "loaded_model.evaluate((test_loader))"
   ]
  },
  {
   "cell_type": "code",
   "execution_count": 5,
   "id": "03a23853-e7ce-4611-a2a1-a7ac6c871c04",
   "metadata": {},
   "outputs": [
    {
     "name": "stdout",
     "output_type": "stream",
     "text": [
      "Test Mean Squared Error: 0.000173\n"
     ]
    },
    {
     "data": {
      "text/plain": [
       "0.00017347901764940468"
      ]
     },
     "execution_count": 5,
     "metadata": {},
     "output_type": "execute_result"
    }
   ],
   "source": [
    "loaded_model.test_mse((test_loader))"
   ]
  },
  {
   "cell_type": "code",
   "execution_count": 6,
   "id": "1236d564-62be-4e8c-985e-03e24283f570",
   "metadata": {
    "tags": []
   },
   "outputs": [],
   "source": [
    "alpha = loaded_model.model.alpha\n",
    "beta = loaded_model.model.beta\n"
   ]
  },
  {
   "cell_type": "code",
   "execution_count": 7,
   "id": "884fb746-1f2e-4bb5-ab69-691d97d6c12f",
   "metadata": {
    "tags": []
   },
   "outputs": [
    {
     "name": "stdout",
     "output_type": "stream",
     "text": [
      "tensor(0.6149, device='cuda:0', grad_fn=<SelectBackward0>)\n"
     ]
    }
   ],
   "source": [
    "weights_list = loaded_model.model.weights\n",
    "print(weights_list[0])"
   ]
  },
  {
   "cell_type": "code",
   "execution_count": 8,
   "id": "101fe081-00cc-42de-9ffe-d157e3bfa933",
   "metadata": {
    "tags": []
   },
   "outputs": [
    {
     "name": "stdout",
     "output_type": "stream",
     "text": [
      "========== alpha summary ========\n",
      "----------------------------------------------------------------\n",
      "        Layer (type)               Output Shape         Param #\n",
      "================================================================\n",
      "            Linear-1             [-1, 1, 1, 64]             128\n",
      "              ReLU-2             [-1, 1, 1, 64]               0\n",
      "            Linear-3             [-1, 1, 1, 32]           2,080\n",
      "              ReLU-4             [-1, 1, 1, 32]               0\n",
      "            Linear-5              [-1, 1, 1, 1]              33\n",
      "================================================================\n",
      "Total params: 2,241\n",
      "Trainable params: 2,241\n",
      "Non-trainable params: 0\n",
      "----------------------------------------------------------------\n",
      "Input size (MB): 0.00\n",
      "Forward/backward pass size (MB): 0.00\n",
      "Params size (MB): 0.01\n",
      "Estimated Total Size (MB): 0.01\n",
      "----------------------------------------------------------------\n",
      "========== beta summary ========\n",
      "----------------------------------------------------------------\n",
      "        Layer (type)               Output Shape         Param #\n",
      "================================================================\n",
      "            Linear-1             [-1, 1, 1, 64]             128\n",
      "              ReLU-2             [-1, 1, 1, 64]               0\n",
      "            Linear-3             [-1, 1, 1, 32]           2,080\n",
      "              ReLU-4             [-1, 1, 1, 32]               0\n",
      "            Linear-5              [-1, 1, 1, 1]              33\n",
      "================================================================\n",
      "Total params: 2,241\n",
      "Trainable params: 2,241\n",
      "Non-trainable params: 0\n",
      "----------------------------------------------------------------\n",
      "Input size (MB): 0.00\n",
      "Forward/backward pass size (MB): 0.00\n",
      "Params size (MB): 0.01\n",
      "Estimated Total Size (MB): 0.01\n",
      "----------------------------------------------------------------\n"
     ]
    }
   ],
   "source": [
    "print('========== alpha summary ========')\n",
    "summary(alpha[0], [[1,1,1]])\n",
    "\n",
    "print('========== beta summary ========')\n",
    "summary(beta[0], [[1,1,1]])"
   ]
  },
  {
   "cell_type": "code",
   "execution_count": 9,
   "id": "ab7e88a5-d3d3-484f-b493-dbad9307e0e0",
   "metadata": {
    "tags": []
   },
   "outputs": [],
   "source": [
    "# alpha[0].to('cpu')\n",
    "# beta[0].to('cpu')\n",
    "# weights_list[0].to('cpu')"
   ]
  },
  {
   "cell_type": "code",
   "execution_count": 10,
   "id": "cd47589b-1ab0-48c6-9798-50935a3800e3",
   "metadata": {
    "tags": []
   },
   "outputs": [],
   "source": [
    "test_k_val = [0.8018, 0.9012, 1.0000]\n",
    "test_k1 = test_k_val[0]\n",
    "test_k2 = test_k_val[1]\n",
    "test_k3 = test_k_val[2]\n",
    "\n",
    "test_k_val = torch.as_tensor(test_k_val).to('cuda')\n",
    "test_k1 = torch.as_tensor(test_k1).view(1).to('cuda')\n",
    "test_k2 = torch.as_tensor(test_k2).view(1).to('cuda')\n",
    "test_k3 = torch.as_tensor(test_k3).view(1).to('cuda')\n"
   ]
  },
  {
   "cell_type": "code",
   "execution_count": 11,
   "id": "158b0aef-64e7-4591-8609-0e32df35fcac",
   "metadata": {
    "tags": []
   },
   "outputs": [
    {
     "name": "stdout",
     "output_type": "stream",
     "text": [
      "alpha(k1) is  tensor([0.1057], device='cuda:0', grad_fn=<ViewBackward0>)\n",
      "beta(k2) is  tensor([-2.0711], device='cuda:0', grad_fn=<ViewBackward0>)\n"
     ]
    }
   ],
   "source": [
    "alpha_k1 = alpha[0](test_k1)\n",
    "beta_k2  = beta[0](test_k2)\n",
    "beta_k3  = beta[0](test_k3)\n",
    "\n",
    "alpha_k2 = alpha[0](test_k2)\n",
    "beta_k1  = beta[0](test_k1)\n",
    "beta_k2  = beta[0](test_k2)\n",
    "\n",
    "alpha_k3 = alpha[0](test_k3)\n",
    "beta_k1  = beta[0](test_k1)\n",
    "beta_k2  = beta[0](test_k2)\n",
    "\n",
    "\n",
    "print('alpha(k1) is ', alpha_k1)\n",
    "print('beta(k2) is ', beta_k2)"
   ]
  },
  {
   "cell_type": "code",
   "execution_count": 12,
   "id": "367189a7-ef7a-45f5-a99f-694f85980c67",
   "metadata": {
    "tags": []
   },
   "outputs": [
    {
     "name": "stdout",
     "output_type": "stream",
     "text": [
      "tensor([1.0033], device='cuda:0', grad_fn=<MulBackward0>)\n"
     ]
    }
   ],
   "source": [
    "test_result = weights_list[0]*(alpha_k1*beta_k2*beta_k3 + alpha_k3*beta_k1*beta_k2 + alpha_k3*beta_k1*beta_k2)\n",
    "print(test_result)"
   ]
  },
  {
   "cell_type": "code",
   "execution_count": 13,
   "id": "264d1ae7-37ae-42c4-8dc4-73b035ce5968",
   "metadata": {
    "tags": []
   },
   "outputs": [
    {
     "data": {
      "text/plain": [
       "tensor(0.9633, device='cuda:0')"
      ]
     },
     "execution_count": 13,
     "metadata": {},
     "output_type": "execute_result"
    }
   ],
   "source": [
    "bk_function_equilateral(test_k_val[0],test_k_val[1],test_k_val[2])"
   ]
  },
  {
   "cell_type": "code",
   "execution_count": 14,
   "id": "dc7a3a2f-fb56-46b1-8cc7-ea78b028cdc0",
   "metadata": {
    "tags": []
   },
   "outputs": [
    {
     "data": {
      "text/plain": [
       "(tensor([0.9931, 0.9990, 1.0000]), tensor([1.0000]))"
      ]
     },
     "execution_count": 14,
     "metadata": {},
     "output_type": "execute_result"
    }
   ],
   "source": [
    "X_test[-30], y_test[-30]"
   ]
  },
  {
   "cell_type": "code",
   "execution_count": 15,
   "id": "f0bf77fb-fdd6-4839-ab46-dd9a4ca94605",
   "metadata": {
    "tags": []
   },
   "outputs": [
    {
     "data": {
      "text/plain": [
       "(tensor([0.3301, 0.9597, 1.0000]), tensor([0.5522]))"
      ]
     },
     "execution_count": 15,
     "metadata": {},
     "output_type": "execute_result"
    }
   ],
   "source": [
    "X_test[-199500], y_test[-199500]"
   ]
  },
  {
   "cell_type": "code",
   "execution_count": 16,
   "id": "0a8a989e-ce2d-4569-b66d-ba358a7b0700",
   "metadata": {
    "tags": []
   },
   "outputs": [],
   "source": [
    "# loaded_model.get_Delta_fNL(test_loader, kmin=0.01)"
   ]
  },
  {
   "cell_type": "markdown",
   "id": "b3f8f9e6-d4d8-400a-92bc-b6e257e09a4c",
   "metadata": {},
   "source": [
    "# plot differences along k1=k2"
   ]
  },
  {
   "cell_type": "code",
   "execution_count": 17,
   "id": "29124ecd-56ae-46ef-ad7f-13802a6a7151",
   "metadata": {
    "tags": []
   },
   "outputs": [],
   "source": [
    "def get_bk_k1_k2(k1k2=0.1):\n",
    "    # get the bk from the NN with k1=k2\n",
    "    tmp1 = alpha[0](k1k2)\n",
    "    tmp2  = beta[0](k1k2)\n",
    "    tmp3  = beta[0](test_k3)\n",
    "\n",
    "    tmp4 = alpha[0](k1k2)\n",
    "    tmp5  = beta[0](k1k2)\n",
    "    tmp6  = beta[0](test_k2)\n",
    "\n",
    "    tmp7 = alpha[0](test_k3)\n",
    "    tmp8  = beta[0](k1k2)\n",
    "    tmp9  = beta[0](k1k2)\n",
    "    return weights_list[0]*(tmp1*tmp2*tmp3 + tmp4*tmp5*tmp6 + tmp7*tmp8*tmp9)"
   ]
  },
  {
   "cell_type": "code",
   "execution_count": 18,
   "id": "f7255411-31c8-41eb-928d-6a8c78a8be87",
   "metadata": {
    "tags": []
   },
   "outputs": [],
   "source": [
    "test_k1k2 = np.linspace(0.51, 1., 100).astype(float)\n",
    "test_result_k1k2 = []\n",
    "for k1k2 in test_k1k2:\n",
    "    k1k2 = torch.as_tensor(k1k2).view(1).to('cuda').float()\n",
    "    test_result_k1k2.append(get_bk_k1_k2(k1k2).detach().cpu().numpy()[0])\n",
    "test_result_k1k2 = np.array(test_result_k1k2)\n",
    "\n",
    "\n",
    "true_result_k1k2 = []\n",
    "for k1k2 in test_k1k2:\n",
    "    true_result_k1k2.append(bk_function_equilateral(k1k2, k1k2, 1.0))\n",
    "    \n",
    "true_result_k1k2 = np.array(true_result_k1k2)"
   ]
  },
  {
   "cell_type": "code",
   "execution_count": 19,
   "id": "feff8520-f2e0-4cd4-acb3-2a5a369dc238",
   "metadata": {
    "tags": []
   },
   "outputs": [
    {
     "data": {
      "image/png": "[encoded data removed]",
      "text/plain": [
       "<Figure size 640x480 with 1 Axes>"
      ]
     },
     "metadata": {},
     "output_type": "display_data"
    },
    {
     "name": "stdout",
     "output_type": "stream",
     "text": [
      "mean of abs residual 0.016262874968267962\n"
     ]
    },
    {
     "data": {
      "image/png": "[encoded data removed]",
      "text/plain": [
       "<Figure size 640x480 with 1 Axes>"
      ]
     },
     "metadata": {},
     "output_type": "display_data"
    }
   ],
   "source": [
    "plt.plot(test_k1k2, test_result_k1k2, label='learned')\n",
    "plt.plot(test_k1k2, true_result_k1k2, label='truth')\n",
    "\n",
    "plt.xlabel('k1/k3 or k2/k3 ')\n",
    "plt.legend()\n",
    "plt.show()\n",
    "\n",
    "plt.plot(test_k1k2, test_result_k1k2/true_result_k1k2-1)\n",
    "plt.ylabel('fractional dif')\n",
    "plt.ylim(-0.1, 0.1)\n",
    "\n",
    "print('mean of abs residual', np.mean(np.abs(test_result_k1k2/true_result_k1k2-1)))"
   ]
  },
  {
   "cell_type": "code",
   "execution_count": null,
   "id": "3ceb175b-8a3b-415e-a47b-319b40fa0290",
   "metadata": {},
   "outputs": [],
   "source": []
  }
 ],
 "metadata": {
  "kernelspec": {
   "display_name": "py39",
   "language": "python",
   "name": "py39"
  },
  "language_info": {
   "codemirror_mode": {
    "name": "ipython",
    "version": 3
   },
   "file_extension": ".py",
   "mimetype": "text/x-python",
   "name": "python",
   "nbconvert_exporter": "python",
   "pygments_lexer": "ipython3",
   "version": "3.9.19"
  }
 },
 "nbformat": 4,
 "nbformat_minor": 5
}
